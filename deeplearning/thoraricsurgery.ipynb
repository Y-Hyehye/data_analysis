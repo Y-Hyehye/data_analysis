{
 "cells": [
  {
   "cell_type": "code",
   "execution_count": 1,
   "metadata": {},
   "outputs": [
    {
     "name": "stderr",
     "output_type": "stream",
     "text": [
      "Using TensorFlow backend.\n"
     ]
    },
    {
     "data": {
      "text/plain": [
       "'2.3.1'"
      ]
     },
     "execution_count": 1,
     "metadata": {},
     "output_type": "execute_result"
    }
   ],
   "source": [
    "import keras\n",
    "import numpy as np\n",
    "import tensorflow as tf\n",
    "keras.__version__"
   ]
  },
  {
   "cell_type": "code",
   "execution_count": 2,
   "metadata": {},
   "outputs": [],
   "source": [
    "# 실행할 때마다 같은 결과를 출력하기 위해 설정하는 부분\n",
    "np.random.seed(3)\n",
    "tf.random.set_seed(3)"
   ]
  },
  {
   "cell_type": "code",
   "execution_count": 3,
   "metadata": {},
   "outputs": [],
   "source": [
    "def MinMaxScaler(data):\n",
    "    numerator = data - np.min(data, 0)\n",
    "    denominator = np.max(data, 0) - np.min(data, 0)\n",
    "    # noise term prevents the zero division\n",
    "    return numerator / (denominator + 1e-7)"
   ]
  },
  {
   "cell_type": "code",
   "execution_count": 4,
   "metadata": {},
   "outputs": [],
   "source": [
    "xy = np.loadtxt('ThoraricSurgery.csv', delimiter=',', dtype=np.float32)"
   ]
  },
  {
   "cell_type": "code",
   "execution_count": 5,
   "metadata": {},
   "outputs": [
    {
     "name": "stdout",
     "output_type": "stream",
     "text": [
      "[[0.6226013  0.         0.4855967  ... 0.         0.6212121  0.        ]\n",
      " [0.         0.14285715 0.2962963  ... 0.         0.59090906 0.        ]\n",
      " [0.01492537 0.14285715 0.3600823  ... 0.         0.6818182  0.9999999 ]\n",
      " ...\n",
      " [0.86353946 0.71428573 0.80658436 ... 0.         0.6212121  0.        ]\n",
      " [0.05117271 1.         0.5925926  ... 0.         0.56060606 0.9999999 ]\n",
      " [0.9509595  1.         0.7736625  ... 0.         0.42424244 0.        ]]\n"
     ]
    }
   ],
   "source": [
    "xy = MinMaxScaler(xy)\n",
    "print(xy)"
   ]
  },
  {
   "cell_type": "code",
   "execution_count": 6,
   "metadata": {},
   "outputs": [
    {
     "name": "stdout",
     "output_type": "stream",
     "text": [
      "(400, 17) (70, 17)\n"
     ]
    }
   ],
   "source": [
    "x_train = xy[:400, 0:-1]\n",
    "y_train = xy[:400, [-1]]\n",
    "\n",
    "x_test = xy[400:, 0:-1]\n",
    "y_test = xy[400:, [-1]]\n",
    "\n",
    "print(x_train.shape, x_test.shape) "
   ]
  },
  {
   "cell_type": "code",
   "execution_count": 7,
   "metadata": {},
   "outputs": [],
   "source": [
    "from keras import models\n",
    "from keras import layers\n",
    "from keras import regularizers\n",
    "\n",
    "def build_model():\n",
    "    model = models.Sequential()\n",
    "    model.add(layers.Dense(30,kernel_regularizer=regularizers.l2(0.001),\n",
    "                          activation='relu',input_shape=(17,)))\n",
    "    model.add(layers.Dropout(0.5))\n",
    "    model.add(layers.Dense(1, activation='sigmoid'))\n",
    "    model.compile(loss='mean_squared_error', optimizer='adam', metrics=['accuracy'])\n",
    "    return model"
   ]
  },
  {
   "cell_type": "code",
   "execution_count": 8,
   "metadata": {},
   "outputs": [
    {
     "name": "stdout",
     "output_type": "stream",
     "text": [
      "100\n",
      "처리중인 폴드 # 0\n",
      "처리중인 폴드 # 1\n",
      "처리중인 폴드 # 2\n",
      "처리중인 폴드 # 3\n"
     ]
    }
   ],
   "source": [
    "# k-겹 교차 검증\n",
    "# x_train, y_train을 다시 train data(partial) 300개, validation data 100개로 나눈다.\n",
    "k = 4\n",
    "num_val_samples = len(x_train) // k\n",
    "print(num_val_samples)         # validation data: 100개\n",
    "num_epochs = 100\n",
    "all_scores = []\n",
    "for i in range(k):\n",
    "    print('처리중인 폴드 #', i)\n",
    "    # 검증 데이터 준비: k번째 분할\n",
    "    val_data = x_train[i * num_val_samples: (i + 1) * num_val_samples]\n",
    "    val_targets = y_train[i * num_val_samples: (i + 1) * num_val_samples]\n",
    "\n",
    "    # 훈련 데이터 준비\n",
    "    partial_train_data = np.concatenate(\n",
    "        [x_train[:i * num_val_samples],\n",
    "         x_train[(i + 1) * num_val_samples:]],\n",
    "        axis=0)\n",
    "    partial_train_targets = np.concatenate(\n",
    "        [y_train[:i * num_val_samples],\n",
    "         y_train[(i + 1) * num_val_samples:]],\n",
    "        axis=0)\n",
    "\n",
    "    # 케라스 모델 구성\n",
    "    model = build_model()\n",
    "    # 모델 훈련\n",
    "    model.fit(partial_train_data, partial_train_targets,\n",
    "              epochs=num_epochs, batch_size=1, verbose=0)\n",
    "    # 검증 세트로 모델 평가\n",
    "    val_mse, val_mae = model.evaluate(val_data, val_targets, verbose=0)\n",
    "    all_scores.append(val_mae)"
   ]
  },
  {
   "cell_type": "code",
   "execution_count": 9,
   "metadata": {},
   "outputs": [
    {
     "data": {
      "text/plain": [
       "[0.800000011920929, 0.8500000238418579, 0.8500000238418579, 0.9200000166893005]"
      ]
     },
     "execution_count": 9,
     "metadata": {},
     "output_type": "execute_result"
    }
   ],
   "source": [
    "all_scores"
   ]
  },
  {
   "cell_type": "code",
   "execution_count": 10,
   "metadata": {},
   "outputs": [
    {
     "data": {
      "text/plain": [
       "0.8550000190734863"
      ]
     },
     "execution_count": 10,
     "metadata": {},
     "output_type": "execute_result"
    }
   ],
   "source": [
    "np.mean(all_scores)"
   ]
  },
  {
   "cell_type": "code",
   "execution_count": 11,
   "metadata": {},
   "outputs": [
    {
     "name": "stdout",
     "output_type": "stream",
     "text": [
      "Epoch 1/100\n",
      "400/400 [==============================] - 0s 539us/step - loss: 0.2775 - accuracy: 0.4500\n",
      "Epoch 2/100\n",
      "400/400 [==============================] - 0s 122us/step - loss: 0.2006 - accuracy: 0.7650\n",
      "Epoch 3/100\n",
      "400/400 [==============================] - 0s 122us/step - loss: 0.1646 - accuracy: 0.8400\n",
      "Epoch 4/100\n",
      "400/400 [==============================] - 0s 127us/step - loss: 0.1547 - accuracy: 0.8525\n",
      "Epoch 5/100\n",
      "400/400 [==============================] - 0s 130us/step - loss: 0.1511 - accuracy: 0.8625\n",
      "Epoch 6/100\n",
      "400/400 [==============================] - 0s 127us/step - loss: 0.1496 - accuracy: 0.8600\n",
      "Epoch 7/100\n",
      "400/400 [==============================] - 0s 130us/step - loss: 0.1397 - accuracy: 0.8600\n",
      "Epoch 8/100\n",
      "400/400 [==============================] - 0s 145us/step - loss: 0.1377 - accuracy: 0.8625\n",
      "Epoch 9/100\n",
      "400/400 [==============================] - 0s 182us/step - loss: 0.1469 - accuracy: 0.8600\n",
      "Epoch 10/100\n",
      "400/400 [==============================] - 0s 150us/step - loss: 0.1374 - accuracy: 0.8625\n",
      "Epoch 11/100\n",
      "400/400 [==============================] - 0s 130us/step - loss: 0.1335 - accuracy: 0.8625\n",
      "Epoch 12/100\n",
      "400/400 [==============================] - 0s 142us/step - loss: 0.1380 - accuracy: 0.8625\n",
      "Epoch 13/100\n",
      "400/400 [==============================] - 0s 130us/step - loss: 0.1333 - accuracy: 0.8625\n",
      "Epoch 14/100\n",
      "400/400 [==============================] - 0s 145us/step - loss: 0.1367 - accuracy: 0.8625\n",
      "Epoch 15/100\n",
      "400/400 [==============================] - 0s 125us/step - loss: 0.1355 - accuracy: 0.8625\n",
      "Epoch 16/100\n",
      "400/400 [==============================] - 0s 132us/step - loss: 0.1312 - accuracy: 0.8625\n",
      "Epoch 17/100\n",
      "400/400 [==============================] - 0s 152us/step - loss: 0.1346 - accuracy: 0.8625\n",
      "Epoch 18/100\n",
      "400/400 [==============================] - 0s 142us/step - loss: 0.1311 - accuracy: 0.8625\n",
      "Epoch 19/100\n",
      "400/400 [==============================] - 0s 130us/step - loss: 0.1302 - accuracy: 0.8625\n",
      "Epoch 20/100\n",
      "400/400 [==============================] - 0s 127us/step - loss: 0.1291 - accuracy: 0.8625\n",
      "Epoch 21/100\n",
      "400/400 [==============================] - 0s 152us/step - loss: 0.1297 - accuracy: 0.8625\n",
      "Epoch 22/100\n",
      "400/400 [==============================] - 0s 130us/step - loss: 0.1249 - accuracy: 0.8575\n",
      "Epoch 23/100\n",
      "400/400 [==============================] - 0s 147us/step - loss: 0.1320 - accuracy: 0.8600\n",
      "Epoch 24/100\n",
      "400/400 [==============================] - 0s 122us/step - loss: 0.1231 - accuracy: 0.8625\n",
      "Epoch 25/100\n",
      "400/400 [==============================] - 0s 127us/step - loss: 0.1229 - accuracy: 0.8625\n",
      "Epoch 26/100\n",
      "400/400 [==============================] - 0s 140us/step - loss: 0.1265 - accuracy: 0.8625\n",
      "Epoch 27/100\n",
      "400/400 [==============================] - 0s 130us/step - loss: 0.1268 - accuracy: 0.8625\n",
      "Epoch 28/100\n",
      "400/400 [==============================] - 0s 127us/step - loss: 0.1218 - accuracy: 0.8625\n",
      "Epoch 29/100\n",
      "400/400 [==============================] - 0s 142us/step - loss: 0.1276 - accuracy: 0.8625\n",
      "Epoch 30/100\n",
      "400/400 [==============================] - 0s 127us/step - loss: 0.1191 - accuracy: 0.8625\n",
      "Epoch 31/100\n",
      "400/400 [==============================] - 0s 127us/step - loss: 0.1243 - accuracy: 0.8625\n",
      "Epoch 32/100\n",
      "400/400 [==============================] - 0s 160us/step - loss: 0.1210 - accuracy: 0.8625\n",
      "Epoch 33/100\n",
      "400/400 [==============================] - 0s 172us/step - loss: 0.1236 - accuracy: 0.8625\n",
      "Epoch 34/100\n",
      "400/400 [==============================] - 0s 147us/step - loss: 0.1194 - accuracy: 0.8625\n",
      "Epoch 35/100\n",
      "400/400 [==============================] - 0s 130us/step - loss: 0.1214 - accuracy: 0.8600\n",
      "Epoch 36/100\n",
      "400/400 [==============================] - 0s 127us/step - loss: 0.1183 - accuracy: 0.8625\n",
      "Epoch 37/100\n",
      "400/400 [==============================] - 0s 127us/step - loss: 0.1165 - accuracy: 0.8625\n",
      "Epoch 38/100\n",
      "400/400 [==============================] - 0s 177us/step - loss: 0.1237 - accuracy: 0.8600\n",
      "Epoch 39/100\n",
      "400/400 [==============================] - 0s 150us/step - loss: 0.1174 - accuracy: 0.8625\n",
      "Epoch 40/100\n",
      "400/400 [==============================] - 0s 145us/step - loss: 0.1197 - accuracy: 0.8625\n",
      "Epoch 41/100\n",
      "400/400 [==============================] - 0s 122us/step - loss: 0.1182 - accuracy: 0.8625\n",
      "Epoch 42/100\n",
      "400/400 [==============================] - 0s 165us/step - loss: 0.1181 - accuracy: 0.8625\n",
      "Epoch 43/100\n",
      "400/400 [==============================] - 0s 182us/step - loss: 0.1206 - accuracy: 0.8625\n",
      "Epoch 44/100\n",
      "400/400 [==============================] - 0s 140us/step - loss: 0.1183 - accuracy: 0.8625\n",
      "Epoch 45/100\n",
      "400/400 [==============================] - 0s 147us/step - loss: 0.1219 - accuracy: 0.8600\n",
      "Epoch 46/100\n",
      "400/400 [==============================] - 0s 127us/step - loss: 0.1230 - accuracy: 0.8625\n",
      "Epoch 47/100\n",
      "400/400 [==============================] - 0s 150us/step - loss: 0.1171 - accuracy: 0.8625\n",
      "Epoch 48/100\n",
      "400/400 [==============================] - 0s 130us/step - loss: 0.1176 - accuracy: 0.8625\n",
      "Epoch 49/100\n",
      "400/400 [==============================] - 0s 145us/step - loss: 0.1185 - accuracy: 0.8625\n",
      "Epoch 50/100\n",
      "400/400 [==============================] - 0s 125us/step - loss: 0.1153 - accuracy: 0.8625\n",
      "Epoch 51/100\n",
      "400/400 [==============================] - 0s 147us/step - loss: 0.1171 - accuracy: 0.8625\n",
      "Epoch 52/100\n",
      "400/400 [==============================] - 0s 162us/step - loss: 0.1174 - accuracy: 0.8600\n",
      "Epoch 53/100\n",
      "400/400 [==============================] - 0s 207us/step - loss: 0.1166 - accuracy: 0.8625\n",
      "Epoch 54/100\n",
      "400/400 [==============================] - 0s 229us/step - loss: 0.1144 - accuracy: 0.8625\n",
      "Epoch 55/100\n",
      "400/400 [==============================] - 0s 194us/step - loss: 0.1147 - accuracy: 0.8625\n",
      "Epoch 56/100\n",
      "400/400 [==============================] - 0s 132us/step - loss: 0.1144 - accuracy: 0.8600\n",
      "Epoch 57/100\n",
      "400/400 [==============================] - 0s 120us/step - loss: 0.1157 - accuracy: 0.8625\n",
      "Epoch 58/100\n",
      "400/400 [==============================] - 0s 122us/step - loss: 0.1153 - accuracy: 0.8625\n",
      "Epoch 59/100\n",
      "400/400 [==============================] - 0s 132us/step - loss: 0.1128 - accuracy: 0.8625\n",
      "Epoch 60/100\n",
      "400/400 [==============================] - 0s 120us/step - loss: 0.1139 - accuracy: 0.8625\n",
      "Epoch 61/100\n",
      "400/400 [==============================] - 0s 122us/step - loss: 0.1176 - accuracy: 0.8600\n",
      "Epoch 62/100\n",
      "400/400 [==============================] - 0s 122us/step - loss: 0.1144 - accuracy: 0.8625\n",
      "Epoch 63/100\n",
      "400/400 [==============================] - 0s 117us/step - loss: 0.1155 - accuracy: 0.8625\n",
      "Epoch 64/100\n",
      "400/400 [==============================] - 0s 127us/step - loss: 0.1172 - accuracy: 0.8575\n",
      "Epoch 65/100\n",
      "400/400 [==============================] - 0s 117us/step - loss: 0.1150 - accuracy: 0.8625\n",
      "Epoch 66/100\n",
      "400/400 [==============================] - 0s 125us/step - loss: 0.1104 - accuracy: 0.8625\n",
      "Epoch 67/100\n",
      "400/400 [==============================] - 0s 122us/step - loss: 0.1135 - accuracy: 0.8625\n",
      "Epoch 68/100\n",
      "400/400 [==============================] - 0s 120us/step - loss: 0.1167 - accuracy: 0.8625\n",
      "Epoch 69/100\n",
      "400/400 [==============================] - 0s 130us/step - loss: 0.1158 - accuracy: 0.8625\n",
      "Epoch 70/100\n",
      "400/400 [==============================] - 0s 122us/step - loss: 0.1163 - accuracy: 0.8625\n",
      "Epoch 71/100\n",
      "400/400 [==============================] - 0s 120us/step - loss: 0.1139 - accuracy: 0.8625\n",
      "Epoch 72/100\n",
      "400/400 [==============================] - 0s 122us/step - loss: 0.1136 - accuracy: 0.8600\n",
      "Epoch 73/100\n",
      "400/400 [==============================] - 0s 125us/step - loss: 0.1164 - accuracy: 0.8625\n",
      "Epoch 74/100\n",
      "400/400 [==============================] - 0s 120us/step - loss: 0.1147 - accuracy: 0.8625\n",
      "Epoch 75/100\n",
      "400/400 [==============================] - 0s 120us/step - loss: 0.1150 - accuracy: 0.8625\n",
      "Epoch 76/100\n",
      "400/400 [==============================] - 0s 120us/step - loss: 0.1106 - accuracy: 0.8625\n",
      "Epoch 77/100\n",
      "400/400 [==============================] - 0s 120us/step - loss: 0.1151 - accuracy: 0.8625\n",
      "Epoch 78/100\n",
      "400/400 [==============================] - 0s 137us/step - loss: 0.1137 - accuracy: 0.8625\n",
      "Epoch 79/100\n",
      "400/400 [==============================] - 0s 120us/step - loss: 0.1134 - accuracy: 0.8625\n",
      "Epoch 80/100\n",
      "400/400 [==============================] - 0s 120us/step - loss: 0.1146 - accuracy: 0.8600\n",
      "Epoch 81/100\n",
      "400/400 [==============================] - 0s 117us/step - loss: 0.1125 - accuracy: 0.8625\n",
      "Epoch 82/100\n",
      "400/400 [==============================] - 0s 120us/step - loss: 0.1134 - accuracy: 0.8625\n",
      "Epoch 83/100\n",
      "400/400 [==============================] - 0s 125us/step - loss: 0.1127 - accuracy: 0.8625\n",
      "Epoch 84/100\n",
      "400/400 [==============================] - 0s 120us/step - loss: 0.1133 - accuracy: 0.8625\n",
      "Epoch 85/100\n",
      "400/400 [==============================] - 0s 145us/step - loss: 0.1111 - accuracy: 0.8625\n",
      "Epoch 86/100\n",
      "400/400 [==============================] - 0s 127us/step - loss: 0.1128 - accuracy: 0.8625\n",
      "Epoch 87/100\n",
      "400/400 [==============================] - 0s 122us/step - loss: 0.1122 - accuracy: 0.8625\n",
      "Epoch 88/100\n",
      "400/400 [==============================] - 0s 120us/step - loss: 0.1137 - accuracy: 0.8625\n",
      "Epoch 89/100\n",
      "400/400 [==============================] - 0s 117us/step - loss: 0.1117 - accuracy: 0.8625\n",
      "Epoch 90/100\n",
      "400/400 [==============================] - 0s 120us/step - loss: 0.1115 - accuracy: 0.8625\n",
      "Epoch 91/100\n",
      "400/400 [==============================] - 0s 120us/step - loss: 0.1143 - accuracy: 0.8575\n",
      "Epoch 92/100\n",
      "400/400 [==============================] - 0s 132us/step - loss: 0.1152 - accuracy: 0.8625\n",
      "Epoch 93/100\n",
      "400/400 [==============================] - 0s 120us/step - loss: 0.1141 - accuracy: 0.8625\n",
      "Epoch 94/100\n",
      "400/400 [==============================] - 0s 117us/step - loss: 0.1118 - accuracy: 0.8625\n",
      "Epoch 95/100\n",
      "400/400 [==============================] - 0s 122us/step - loss: 0.1143 - accuracy: 0.8625\n",
      "Epoch 96/100\n",
      "400/400 [==============================] - 0s 117us/step - loss: 0.1125 - accuracy: 0.8625\n",
      "Epoch 97/100\n",
      "400/400 [==============================] - 0s 125us/step - loss: 0.1163 - accuracy: 0.8625\n",
      "Epoch 98/100\n",
      "400/400 [==============================] - 0s 120us/step - loss: 0.1104 - accuracy: 0.8625\n",
      "Epoch 99/100\n",
      "400/400 [==============================] - 0s 120us/step - loss: 0.1120 - accuracy: 0.8600\n",
      "Epoch 100/100\n",
      "400/400 [==============================] - 0s 120us/step - loss: 0.1096 - accuracy: 0.8625\n",
      "70/70 [==============================] - 0s 356us/step\n"
     ]
    }
   ],
   "source": [
    "# 최종 모델 훈련\n",
    "model = build_model()\n",
    "model.fit(x_train, y_train, epochs=100, batch_size=10)\n",
    "results=model.evaluate(x_test, y_test)"
   ]
  },
  {
   "cell_type": "code",
   "execution_count": 12,
   "metadata": {},
   "outputs": [
    {
     "data": {
      "text/plain": [
       "[0.17457109221390316, 0.7857142686843872]"
      ]
     },
     "execution_count": 12,
     "metadata": {},
     "output_type": "execute_result"
    }
   ],
   "source": [
    "results"
   ]
  },
  {
   "cell_type": "code",
   "execution_count": null,
   "metadata": {},
   "outputs": [],
   "source": []
  }
 ],
 "metadata": {
  "kernelspec": {
   "display_name": "Python 3",
   "language": "python",
   "name": "python3"
  },
  "language_info": {
   "codemirror_mode": {
    "name": "ipython",
    "version": 3
   },
   "file_extension": ".py",
   "mimetype": "text/x-python",
   "name": "python",
   "nbconvert_exporter": "python",
   "pygments_lexer": "ipython3",
   "version": "3.7.6"
  }
 },
 "nbformat": 4,
 "nbformat_minor": 4
}
